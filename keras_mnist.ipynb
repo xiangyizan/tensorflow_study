{
  "nbformat": 4,
  "nbformat_minor": 0,
  "metadata": {
    "colab": {
      "name": "keras_mnist.ipynb",
      "provenance": [],
      "mount_file_id": "1_sWVo9-sfJpm-oAEubtAxhjafxZlYgC-",
      "authorship_tag": "ABX9TyNpbxziziczH+ETUvDXkCdB",
      "include_colab_link": true
    },
    "kernelspec": {
      "name": "python3",
      "display_name": "Python 3"
    },
    "accelerator": "GPU"
  },
  "cells": [
    {
      "cell_type": "markdown",
      "metadata": {
        "id": "view-in-github",
        "colab_type": "text"
      },
      "source": [
        "<a href=\"https://colab.research.google.com/github/xiangyizan/tensorflow_study/blob/master/keras_mnist.ipynb\" target=\"_parent\"><img src=\"https://colab.research.google.com/assets/colab-badge.svg\" alt=\"Open In Colab\"/></a>"
      ]
    },
    {
      "cell_type": "code",
      "metadata": {
        "id": "e1XeULfTLvNW",
        "colab_type": "code",
        "colab": {
          "base_uri": "https://localhost:8080/",
          "height": 53
        },
        "outputId": "1637cecf-6282-4c40-9f6e-459a35fed099"
      },
      "source": [
        "import tensorflow as tf\n",
        "import tensorflow.keras as keras\n",
        "from tensorflow.keras.layers import Dense, Conv2D, MaxPooling2D, Flatten\n",
        "from tensorflow.keras.models import Sequential\n",
        "# from tensorflow.examples.tutorials.mnist import input_data\n",
        "mnst = keras.datasets.mnist\n",
        "(x_, y_), (x_1, y_1) = mnst.load_data()\n",
        "print(x_.shape, y_.shape)\n",
        "print(keras.backend.image_data_format())\n",
        "# print(tf.__version__)"
      ],
      "execution_count": 9,
      "outputs": [
        {
          "output_type": "stream",
          "text": [
            "(60000, 28, 28) (60000,)\n",
            "channels_last\n"
          ],
          "name": "stdout"
        }
      ]
    },
    {
      "cell_type": "code",
      "metadata": {
        "id": "iR-RZJWKXOBp",
        "colab_type": "code",
        "colab": {}
      },
      "source": [
        "num_classes=10\n",
        "img_rows, img_cols = 28, 28\n",
        "if keras.backend.image_data_format() == \"channel_first\":\n",
        "  x_ = x_.reshape(x_.shape[0],1, img_rows, img_cols)\n",
        "  x_1 = x_1.reshape(x_1.shape[0],1,img_rows, img_cols)\n",
        "  input_shape = (1, img_rows, img_cols)\n",
        "else:\n",
        "  x_ = x_.reshape(x_.shape[0], img_rows, img_cols, 1)\n",
        "  x_1 = x_1.reshape(x_1.shape[0], img_rows, img_cols, 1)\n",
        "  input_shape = (img_rows, img_cols, 1)\n",
        "x_ = x_.astype('float32')\n",
        "x_1 = x_1.astype('float32')\n",
        "x_ = x_ /255.0\n",
        "x_1 = x_1 / 255.0\n",
        "y_ = keras.utils.to_categorical(y_, num_classes)\n",
        "y_1 = keras.utils.to_categorical(y_1, num_classes)\n"
      ],
      "execution_count": 0,
      "outputs": []
    },
    {
      "cell_type": "code",
      "metadata": {
        "id": "l2kUiSsQZwvp",
        "colab_type": "code",
        "colab": {
          "base_uri": "https://localhost:8080/",
          "height": 791
        },
        "outputId": "fd3cd88f-514b-4f40-b9eb-a847f96f10cd"
      },
      "source": [
        "model = Sequential()\n",
        "model.add(\n",
        "    Conv2D(32, kernel_size=(5,5), activation='relu', input_shape=input_shape)\n",
        ")\n",
        "model.add(\n",
        "    MaxPooling2D(pool_size=(2,2))\n",
        ")\n",
        "model.add(\n",
        "    Conv2D(64, kernel_size=(5, 5), activation='relu')\n",
        ")\n",
        "model.add(\n",
        "    MaxPooling2D(pool_size=(2,2))\n",
        ")\n",
        "model.add(Flatten())\n",
        "model.add(Dense(500, activation='relu'))\n",
        "model.add(Dense(num_classes, activation='softmax'))\n",
        "model.compile(loss = keras.losses.categorical_crossentropy, optimizer= keras.optimizers.Adam(),\n",
        "              metrics=['accuracy'])\n",
        "\n",
        "model.fit(x_, y_, batch_size=128, epochs=20, validation_data=(x_1, y_1))\n",
        "score = model.evaluate(x_1, y_1)\n",
        "print('test loss:', score[0])\n",
        "print('test accuracy:', score[1])"
      ],
      "execution_count": 13,
      "outputs": [
        {
          "output_type": "stream",
          "text": [
            "Epoch 1/20\n",
            "469/469 [==============================] - 2s 5ms/step - loss: 0.1620 - accuracy: 0.9510 - val_loss: 0.0376 - val_accuracy: 0.9883\n",
            "Epoch 2/20\n",
            "469/469 [==============================] - 2s 5ms/step - loss: 0.0437 - accuracy: 0.9866 - val_loss: 0.0341 - val_accuracy: 0.9893\n",
            "Epoch 3/20\n",
            "469/469 [==============================] - 2s 5ms/step - loss: 0.0296 - accuracy: 0.9906 - val_loss: 0.0244 - val_accuracy: 0.9918\n",
            "Epoch 4/20\n",
            "469/469 [==============================] - 2s 5ms/step - loss: 0.0217 - accuracy: 0.9928 - val_loss: 0.0241 - val_accuracy: 0.9924\n",
            "Epoch 5/20\n",
            "469/469 [==============================] - 2s 5ms/step - loss: 0.0163 - accuracy: 0.9948 - val_loss: 0.0270 - val_accuracy: 0.9921\n",
            "Epoch 6/20\n",
            "469/469 [==============================] - 2s 5ms/step - loss: 0.0138 - accuracy: 0.9956 - val_loss: 0.0306 - val_accuracy: 0.9903\n",
            "Epoch 7/20\n",
            "469/469 [==============================] - 2s 5ms/step - loss: 0.0113 - accuracy: 0.9963 - val_loss: 0.0287 - val_accuracy: 0.9917\n",
            "Epoch 8/20\n",
            "469/469 [==============================] - 2s 5ms/step - loss: 0.0096 - accuracy: 0.9970 - val_loss: 0.0274 - val_accuracy: 0.9916\n",
            "Epoch 9/20\n",
            "469/469 [==============================] - 2s 5ms/step - loss: 0.0083 - accuracy: 0.9973 - val_loss: 0.0296 - val_accuracy: 0.9925\n",
            "Epoch 10/20\n",
            "469/469 [==============================] - 2s 5ms/step - loss: 0.0075 - accuracy: 0.9975 - val_loss: 0.0287 - val_accuracy: 0.9921\n",
            "Epoch 11/20\n",
            "469/469 [==============================] - 2s 5ms/step - loss: 0.0064 - accuracy: 0.9981 - val_loss: 0.0308 - val_accuracy: 0.9925\n",
            "Epoch 12/20\n",
            "469/469 [==============================] - 2s 5ms/step - loss: 0.0056 - accuracy: 0.9981 - val_loss: 0.0339 - val_accuracy: 0.9918\n",
            "Epoch 13/20\n",
            "469/469 [==============================] - 2s 5ms/step - loss: 0.0059 - accuracy: 0.9980 - val_loss: 0.0282 - val_accuracy: 0.9928\n",
            "Epoch 14/20\n",
            "469/469 [==============================] - 2s 5ms/step - loss: 0.0048 - accuracy: 0.9984 - val_loss: 0.0287 - val_accuracy: 0.9935\n",
            "Epoch 15/20\n",
            "469/469 [==============================] - 2s 5ms/step - loss: 0.0048 - accuracy: 0.9985 - val_loss: 0.0289 - val_accuracy: 0.9919\n",
            "Epoch 16/20\n",
            "469/469 [==============================] - 2s 5ms/step - loss: 0.0040 - accuracy: 0.9986 - val_loss: 0.0350 - val_accuracy: 0.9935\n",
            "Epoch 17/20\n",
            "469/469 [==============================] - 2s 5ms/step - loss: 0.0038 - accuracy: 0.9987 - val_loss: 0.0399 - val_accuracy: 0.9922\n",
            "Epoch 18/20\n",
            "469/469 [==============================] - 2s 5ms/step - loss: 0.0035 - accuracy: 0.9989 - val_loss: 0.0332 - val_accuracy: 0.9924\n",
            "Epoch 19/20\n",
            "469/469 [==============================] - 2s 5ms/step - loss: 0.0027 - accuracy: 0.9991 - val_loss: 0.0415 - val_accuracy: 0.9917\n",
            "Epoch 20/20\n",
            "469/469 [==============================] - 2s 5ms/step - loss: 0.0028 - accuracy: 0.9992 - val_loss: 0.0357 - val_accuracy: 0.9921\n",
            "313/313 [==============================] - 1s 3ms/step - loss: 0.0357 - accuracy: 0.9921\n",
            "test loss: 0.035746727138757706\n",
            "test accuracy: 0.9921000003814697\n"
          ],
          "name": "stdout"
        }
      ]
    },
    {
      "cell_type": "code",
      "metadata": {
        "id": "3jfCQU5yRa6f",
        "colab_type": "code",
        "colab": {
          "base_uri": "https://localhost:8080/",
          "height": 265
        },
        "outputId": "291c4130-e632-4526-cb74-2cc2a99e03a6"
      },
      "source": [
        "import matplotlib.pyplot as plt\n",
        "%matplotlib inline\n",
        "plt.imshow(x_[0])\n",
        "plt.show()"
      ],
      "execution_count": 6,
      "outputs": [
        {
          "output_type": "display_data",
          "data": {
            "image/png": "[encoded data removed]",
            "text/plain": [
              "<Figure size 432x288 with 1 Axes>"
            ]
          },
          "metadata": {
            "tags": [],
            "needs_background": "light"
          }
        }
      ]
    },
    {
      "cell_type": "markdown",
      "metadata": {
        "id": "zW-TcZGFOKYx",
        "colab_type": "text"
      },
      "source": [
        "# 新段落"
      ]
    },
    {
      "cell_type": "code",
      "metadata": {
        "id": "zze7szo0N1L3",
        "colab_type": "code",
        "colab": {}
      },
      "source": [
        "\n",
        "\n",
        "tf.reset_default_graph()\n",
        "\n",
        "# Hyper Parameters\n",
        "learning_rate = 0.01    # 学习率\n",
        "n_steps = 28            # LSTM 展开步数（时序持续长度）\n",
        "n_inputs = 28           # 输入节点数\n",
        "n_hiddens = 64         # 隐层节点数\n",
        "n_layers = 2            # LSTM layer 层数\n",
        "n_classes = 10          # 输出节点数（分类数目）\n",
        "\n",
        "# data\n",
        "mnist = \n",
        "test_x = mnist.test.images\n",
        "test_y = mnist.test.labels\n",
        "\n",
        "# tensor placeholder\n",
        "with tf.name_scope('inputs'):\n",
        "    x = tf.placeholder(tf.float32, [None, n_steps * n_inputs], name='x_input')     # 输入\n",
        "    y = tf.placeholder(tf.float32, [None, n_classes], name='y_input')               # 输出\n",
        "    keep_prob = tf.placeholder(tf.float32, name='keep_prob_input')           # 保持多少不被 dropout\n",
        "    batch_size = tf.placeholder(tf.int32, [], name='batch_size_input')       # 批大小\n",
        "\n",
        "# weights and biases\n",
        "with tf.name_scope('weights'):\n",
        "    Weights = tf.Variable(tf.truncated_normal([n_hiddens, n_classes],stddev=0.1), dtype=tf.float32, name='W')\n",
        "    tf.summary.histogram('output_layer_weights', Weights)\n",
        "with tf.name_scope('biases'):\n",
        "    biases = tf.Variable(tf.random_normal([n_classes]), name='b')\n",
        "    tf.summary.histogram('output_layer_biases', biases)\n",
        "\n",
        "# RNN structure\n",
        "def RNN_LSTM(x, Weights, biases):\n",
        "    # RNN 输入 reshape\n",
        "    x = tf.reshape(x, [-1, n_steps, n_inputs])\n",
        "    # 定义 LSTM cell\n",
        "    # cell 中的 dropout\n",
        "    def attn_cell():\n",
        "        lstm_cell = tf.contrib.rnn.BasicLSTMCell(n_hiddens)\n",
        "        with tf.name_scope('lstm_dropout'):\n",
        "            return tf.contrib.rnn.DropoutWrapper(lstm_cell, output_keep_prob=keep_prob)\n",
        "    # attn_cell = tf.contrib.rnn.DropoutWrapper(lstm_cell, output_keep_prob=keep_prob)\n",
        "    # 实现多层 LSTM\n",
        "    # [attn_cell() for _ in range(n_layers)]\n",
        "    enc_cells = []\n",
        "    for i in range(0, n_layers):\n",
        "        enc_cells.append(attn_cell())\n",
        "    with tf.name_scope('lstm_cells_layers'):\n",
        "        mlstm_cell = tf.contrib.rnn.MultiRNNCell(enc_cells, state_is_tuple=True)\n",
        "    # 全零初始化 state\n",
        "    _init_state = mlstm_cell.zero_state(batch_size, dtype=tf.float32)\n",
        "    # dynamic_rnn 运行网络\n",
        "    outputs, states = tf.nn.dynamic_rnn(mlstm_cell, x, initial_state=_init_state, dtype=tf.float32, time_major=False)\n",
        "    # 输出\n",
        "    #return tf.matmul(outputs[:,-1,:], Weights) + biases\n",
        "    return tf.nn.softmax(tf.matmul(outputs[:,-1,:], Weights) + biases)\n",
        "\n",
        "with tf.name_scope('output_layer'):\n",
        "    pred = RNN_LSTM(x, Weights, biases)\n",
        "    tf.summary.histogram('outputs', pred)\n",
        "# cost\n",
        "with tf.name_scope('loss'):\n",
        "    #cost = tf.reduce_mean(tf.nn.softmax_cross_entropy_with_logits(logits=pred, labels=y))\n",
        "    cost = tf.reduce_mean(-tf.reduce_sum(y * tf.log(pred),reduction_indices=[1]))\n",
        "    tf.summary.scalar('loss', cost)\n",
        "# optimizer\n",
        "with tf.name_scope('train'):\n",
        "    train_op = tf.train.AdamOptimizer(learning_rate=learning_rate).minimize(cost)\n",
        "\n",
        "# correct_pred = tf.equal(tf.argmax(pred, 1), tf.argmax(y, 1))\n",
        "# accuarcy = tf.reduce_mean(tf.cast(correct_pred, tf.float32))\n",
        "with tf.name_scope('accuracy'):\n",
        "    accuracy = tf.metrics.accuracy(labels=tf.argmax(y, axis=1), predictions=tf.argmax(pred, axis=1))[1]\n",
        "    tf.summary.scalar('accuracy', accuracy)\n",
        "\n",
        "merged = tf.summary.merge_all()\n",
        "\n",
        "init = tf.group(tf.global_variables_initializer(), tf.local_variables_initializer())\n",
        "\n",
        "with tf.Session() as sess:\n",
        "    sess.run(init)\n",
        "    train_writer = tf.summary.FileWriter(\"E://logs//train\",sess.graph)\n",
        "    test_writer = tf.summary.FileWriter(\"E://logs//test\",sess.graph)\n",
        "    # training\n",
        "    step = 1\n",
        "    for i in range(2000):\n",
        "        _batch_size = 128\n",
        "        batch_x, batch_y = mnist.train.next_batch(_batch_size)\n",
        "\n",
        "        sess.run(train_op, feed_dict={x:batch_x, y:batch_y, keep_prob:0.5, batch_size:_batch_size})\n",
        "        if (i + 1) % 100 == 0:\n",
        "            #loss = sess.run(cost, feed_dict={x:batch_x, y:batch_y, keep_prob:1.0, batch_size:_batch_size})\n",
        "            #acc = sess.run(accuracy, feed_dict={x:batch_x, y:batch_y, keep_prob:1.0, batch_size:_batch_size})\n",
        "            #print('Iter: %d' % ((i+1) * _batch_size), '| train loss: %.6f' % loss, '| train accuracy: %.6f' % acc)\n",
        "            train_result = sess.run(merged, feed_dict={x:batch_x, y:batch_y, keep_prob:1.0, batch_size:_batch_size})\n",
        "            test_result = sess.run(merged, feed_dict={x:test_x, y:test_y, keep_prob:1.0, batch_size:test_x.shape[0]})\n",
        "            train_writer.add_summary(train_result,i+1)\n",
        "            test_writer.add_summary(test_result,i+1)\n",
        "\n",
        "    print(\"Optimization Finished!\")\n",
        "    # prediction\n",
        "    print(\"Testing Accuracy:\", sess.run(accuracy, feed_dict={x:test_x, y:test_y, keep_prob:1.0, batch_size:test_x.shape[0]}))"
      ],
      "execution_count": 0,
      "outputs": []
    }
  ]
}